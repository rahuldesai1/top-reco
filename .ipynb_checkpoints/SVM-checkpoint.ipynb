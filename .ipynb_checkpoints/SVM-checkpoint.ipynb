{
 "cells": [
  {
   "cell_type": "code",
   "execution_count": 42,
   "metadata": {},
   "outputs": [],
   "source": [
    "import tensorflow as tf\n",
    "import pandas as pd\n",
    "import numpy as np\n",
    "from sklearn.model_selection import train_test_split\n",
    "from sklearn.preprocessing import Normalizer\n",
    "from sklearn.svm import SVC\n",
    "from sklearn.decomposition import PCA\n",
    "import keras"
   ]
  },
  {
   "cell_type": "code",
   "execution_count": 39,
   "metadata": {},
   "outputs": [],
   "source": [
    "# Use header to load my csv file with variable names\n",
    "header = ['label','rndm','weight']\n",
    "# boosted frame\n",
    "header += ['W_B_pt','W_B_eta','W_B_phi','W_B_E','W_B_m']\n",
    "header += ['b_B_pt','b_B_eta','b_B_phi','b_B_E','b_B_m']\n",
    "header += ['Wjj_B_dR','tWb_B_dR'] #dR = sqrt(phi^2 + eta^2)\n",
    "header += ['Wjj_B_deta','Wjj_B_dphi','tWb_B_deta','tWb_B_dphi']\n",
    "# lab frame\n",
    "header += ['W_pt','W_eta','W_phi','W_E','W_m']\n",
    "header += ['b_pt','b_eta','b_phi','b_E','b_m']\n",
    "header += ['Wjj_dR','tWb_dR']\n",
    "header += ['Wjj_deta','Wjj_dphi','tWb_deta','tWb_dphi']\n",
    "header += ['t_pt','t_eta','t_phi','t_E','t_m']\n",
    "\n",
    "header += ['btag1', 'btag2', 'btag3'] #binary representation of likelihood of the jet being an actual bjet\n",
    "\n",
    "df = pd.read_csv('~/projects/top-reco-tests/samples/result.csv', names=header, delimiter=' ', skiprows=1)"
   ]
  },
  {
   "cell_type": "code",
   "execution_count": null,
   "metadata": {},
   "outputs": [],
   "source": [
    "pos_class = df[df['label'] == 1]\n",
    "neg_class = df[df['label'] == 0]\n",
    "print(neg_class.shape)\n",
    "neg_class = neg_class.sample(frac=0.1)\n",
    "neg_class.shape\n",
    "final_df = pd.concat([neg_class, pos_class])"
   ]
  },
  {
   "cell_type": "code",
   "execution_count": null,
   "metadata": {},
   "outputs": [],
   "source": [
    "y = final_df['label']\n",
    "X = final_df.drop('label', axis=1).drop('rndm', axis=1)\n",
    "X_train, X_test, y_train, y_test = train_test_split(X, y, test_size=.15, shuffle=True)\n",
    "X_train, X_val, y_train, y_val = train_test_split(X_train, y_train, test_size=.15, shuffle=True)"
   ]
  },
  {
   "cell_type": "code",
   "execution_count": null,
   "metadata": {},
   "outputs": [],
   "source": [
    "pca = PCA(n_components=10)\n",
    "X_new = pca.fit_transform(X_train)\n"
   ]
  },
  {
   "cell_type": "code",
   "execution_count": null,
   "metadata": {},
   "outputs": [],
   "source": [
    "new_df = pd.DataFrame(X_new)\n",
    "new_df.head()"
   ]
  },
  {
   "cell_type": "code",
   "execution_count": null,
   "metadata": {},
   "outputs": [
    {
     "name": "stderr",
     "output_type": "stream",
     "text": [
      "/global/homes/r/rahuld/miniconda2/envs/py3.6/lib/python3.6/site-packages/sklearn/svm/base.py:196: FutureWarning: The default value of gamma will change from 'auto' to 'scale' in version 0.22 to account better for unscaled features. Set gamma explicitly to 'auto' or 'scale' to avoid this warning.\n",
      "  \"avoid this warning.\", FutureWarning)\n"
     ]
    }
   ],
   "source": [
    "classifier = SVC()\n",
    "classifier.fit(new_df, y_train)"
   ]
  },
  {
   "cell_type": "code",
   "execution_count": null,
   "metadata": {},
   "outputs": [],
   "source": [
    "predictions = []\n",
    "for index in range(300):\n",
    "    predictions.append(classifier.predict(X_train.iloc[int(np.argwhere(y_train == 1)[index])]))"
   ]
  },
  {
   "cell_type": "code",
   "execution_count": null,
   "metadata": {},
   "outputs": [],
   "source": [
    "sum(predictions)"
   ]
  }
 ],
 "metadata": {
  "kernelspec": {
   "display_name": "Python [conda env:py3.6]",
   "language": "python",
   "name": "conda-env-py3.6-py"
  },
  "language_info": {
   "codemirror_mode": {
    "name": "ipython",
    "version": 3
   },
   "file_extension": ".py",
   "mimetype": "text/x-python",
   "name": "python",
   "nbconvert_exporter": "python",
   "pygments_lexer": "ipython3",
   "version": "3.6.8"
  }
 },
 "nbformat": 4,
 "nbformat_minor": 2
}
