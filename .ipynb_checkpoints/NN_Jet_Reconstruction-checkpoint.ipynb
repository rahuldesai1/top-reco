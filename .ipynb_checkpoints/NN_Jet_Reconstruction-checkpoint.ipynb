{
 "cells": [
  {
   "cell_type": "code",
   "execution_count": 1,
   "metadata": {},
   "outputs": [
    {
     "name": "stderr",
     "output_type": "stream",
     "text": [
      "Using TensorFlow backend.\n"
     ]
    }
   ],
   "source": [
    "import tensorflow as tf\n",
    "import pandas as pd\n",
    "import numpy as np\n",
    "from sklearn.model_selection import train_test_split\n",
    "from sklearn.preprocessing import Normalizer\n",
    "import keras"
   ]
  },
  {
   "cell_type": "code",
   "execution_count": 2,
   "metadata": {},
   "outputs": [],
   "source": [
    "# Use header to load my csv file with variable names\n",
    "header = ['label','rndm','weight']\n",
    "# boosted frame\n",
    "header += ['W_B_pt','W_B_eta','W_B_phi','W_B_E','W_B_m']\n",
    "header += ['b_B_pt','b_B_eta','b_B_phi','b_B_E','b_B_m']\n",
    "header += ['Wjj_B_dR','tWb_B_dR'] #dR = sqrt(phi^2 + eta^2)\n",
    "header += ['Wjj_B_deta','Wjj_B_dphi','tWb_B_deta','tWb_B_dphi']\n",
    "# lab frame\n",
    "header += ['W_pt','W_eta','W_phi','W_E','W_m']\n",
    "header += ['b_pt','b_eta','b_phi','b_E','b_m']\n",
    "header += ['Wjj_dR','tWb_dR']\n",
    "header += ['Wjj_deta','Wjj_dphi','tWb_deta','tWb_dphi']\n",
    "header += ['t_pt','t_eta','t_phi','t_E','t_m']\n",
    "\n",
    "header += ['btag1', 'btag2', 'btag3'] #binary representation of likelihood of the jet being an actual bjet\n",
    "\n",
    "df = pd.read_csv('~/projects/top-reco-tests/samples/result.csv', names=header, delimiter=' ', skiprows=1)"
   ]
  },
  {
   "cell_type": "code",
   "execution_count": 3,
   "metadata": {},
   "outputs": [
    {
     "data": {
      "text/html": [
       "<div>\n",
       "<style scoped>\n",
       "    .dataframe tbody tr th:only-of-type {\n",
       "        vertical-align: middle;\n",
       "    }\n",
       "\n",
       "    .dataframe tbody tr th {\n",
       "        vertical-align: top;\n",
       "    }\n",
       "\n",
       "    .dataframe thead th {\n",
       "        text-align: right;\n",
       "    }\n",
       "</style>\n",
       "<table border=\"1\" class=\"dataframe\">\n",
       "  <thead>\n",
       "    <tr style=\"text-align: right;\">\n",
       "      <th></th>\n",
       "      <th>label</th>\n",
       "      <th>rndm</th>\n",
       "      <th>weight</th>\n",
       "      <th>W_B_pt</th>\n",
       "      <th>W_B_eta</th>\n",
       "      <th>W_B_phi</th>\n",
       "      <th>W_B_E</th>\n",
       "      <th>W_B_m</th>\n",
       "      <th>b_B_pt</th>\n",
       "      <th>b_B_eta</th>\n",
       "      <th>...</th>\n",
       "      <th>tWb_deta</th>\n",
       "      <th>tWb_dphi</th>\n",
       "      <th>t_pt</th>\n",
       "      <th>t_eta</th>\n",
       "      <th>t_phi</th>\n",
       "      <th>t_E</th>\n",
       "      <th>t_m</th>\n",
       "      <th>btag1</th>\n",
       "      <th>btag2</th>\n",
       "      <th>btag3</th>\n",
       "    </tr>\n",
       "  </thead>\n",
       "  <tbody>\n",
       "    <tr>\n",
       "      <th>0</th>\n",
       "      <td>1</td>\n",
       "      <td>-0.54</td>\n",
       "      <td>0.000011</td>\n",
       "      <td>48.501668</td>\n",
       "      <td>0.056284</td>\n",
       "      <td>2.524057</td>\n",
       "      <td>116.303751</td>\n",
       "      <td>105.672564</td>\n",
       "      <td>48.501668</td>\n",
       "      <td>-0.056284</td>\n",
       "      <td>...</td>\n",
       "      <td>-0.239658</td>\n",
       "      <td>-2.566564</td>\n",
       "      <td>100.524522</td>\n",
       "      <td>1.958788</td>\n",
       "      <td>2.919984</td>\n",
       "      <td>399.158659</td>\n",
       "      <td>164.944705</td>\n",
       "      <td>5.0</td>\n",
       "      <td>1.0</td>\n",
       "      <td>1.0</td>\n",
       "    </tr>\n",
       "    <tr>\n",
       "      <th>1</th>\n",
       "      <td>1</td>\n",
       "      <td>-0.54</td>\n",
       "      <td>0.000011</td>\n",
       "      <td>48.501668</td>\n",
       "      <td>0.056284</td>\n",
       "      <td>2.524057</td>\n",
       "      <td>116.303751</td>\n",
       "      <td>105.672564</td>\n",
       "      <td>48.501668</td>\n",
       "      <td>-0.056284</td>\n",
       "      <td>...</td>\n",
       "      <td>-0.239658</td>\n",
       "      <td>-2.566564</td>\n",
       "      <td>100.524522</td>\n",
       "      <td>1.958788</td>\n",
       "      <td>2.919984</td>\n",
       "      <td>399.158659</td>\n",
       "      <td>164.944705</td>\n",
       "      <td>5.0</td>\n",
       "      <td>1.0</td>\n",
       "      <td>1.0</td>\n",
       "    </tr>\n",
       "    <tr>\n",
       "      <th>2</th>\n",
       "      <td>0</td>\n",
       "      <td>-0.88</td>\n",
       "      <td>0.000010</td>\n",
       "      <td>123.407388</td>\n",
       "      <td>-0.826980</td>\n",
       "      <td>0.902965</td>\n",
       "      <td>188.335550</td>\n",
       "      <td>84.993206</td>\n",
       "      <td>123.407388</td>\n",
       "      <td>0.826980</td>\n",
       "      <td>...</td>\n",
       "      <td>-1.487057</td>\n",
       "      <td>2.487893</td>\n",
       "      <td>83.448000</td>\n",
       "      <td>1.877967</td>\n",
       "      <td>-0.577286</td>\n",
       "      <td>453.880273</td>\n",
       "      <td>357.798334</td>\n",
       "      <td>1.0</td>\n",
       "      <td>1.0</td>\n",
       "      <td>2.0</td>\n",
       "    </tr>\n",
       "    <tr>\n",
       "      <th>3</th>\n",
       "      <td>0</td>\n",
       "      <td>-0.88</td>\n",
       "      <td>0.000010</td>\n",
       "      <td>108.719836</td>\n",
       "      <td>-1.055445</td>\n",
       "      <td>0.910231</td>\n",
       "      <td>197.607526</td>\n",
       "      <td>91.572443</td>\n",
       "      <td>108.719836</td>\n",
       "      <td>1.055445</td>\n",
       "      <td>...</td>\n",
       "      <td>-1.871172</td>\n",
       "      <td>2.441210</td>\n",
       "      <td>83.123734</td>\n",
       "      <td>1.720035</td>\n",
       "      <td>-0.884576</td>\n",
       "      <td>444.189780</td>\n",
       "      <td>374.057018</td>\n",
       "      <td>1.0</td>\n",
       "      <td>5.0</td>\n",
       "      <td>2.0</td>\n",
       "    </tr>\n",
       "    <tr>\n",
       "      <th>4</th>\n",
       "      <td>0</td>\n",
       "      <td>-0.88</td>\n",
       "      <td>0.000010</td>\n",
       "      <td>125.274355</td>\n",
       "      <td>-0.900164</td>\n",
       "      <td>1.302688</td>\n",
       "      <td>186.303408</td>\n",
       "      <td>49.706508</td>\n",
       "      <td>125.274355</td>\n",
       "      <td>0.900164</td>\n",
       "      <td>...</td>\n",
       "      <td>-1.758664</td>\n",
       "      <td>-3.110917</td>\n",
       "      <td>6.357822</td>\n",
       "      <td>4.293132</td>\n",
       "      <td>-2.493616</td>\n",
       "      <td>434.704504</td>\n",
       "      <td>367.160877</td>\n",
       "      <td>1.0</td>\n",
       "      <td>5.0</td>\n",
       "      <td>1.0</td>\n",
       "    </tr>\n",
       "  </tbody>\n",
       "</table>\n",
       "<p>5 rows × 43 columns</p>\n",
       "</div>"
      ],
      "text/plain": [
       "   label  rndm    weight      W_B_pt   W_B_eta   W_B_phi       W_B_E  \\\n",
       "0      1 -0.54  0.000011   48.501668  0.056284  2.524057  116.303751   \n",
       "1      1 -0.54  0.000011   48.501668  0.056284  2.524057  116.303751   \n",
       "2      0 -0.88  0.000010  123.407388 -0.826980  0.902965  188.335550   \n",
       "3      0 -0.88  0.000010  108.719836 -1.055445  0.910231  197.607526   \n",
       "4      0 -0.88  0.000010  125.274355 -0.900164  1.302688  186.303408   \n",
       "\n",
       "        W_B_m      b_B_pt   b_B_eta  ...    tWb_deta  tWb_dphi        t_pt  \\\n",
       "0  105.672564   48.501668 -0.056284  ...   -0.239658 -2.566564  100.524522   \n",
       "1  105.672564   48.501668 -0.056284  ...   -0.239658 -2.566564  100.524522   \n",
       "2   84.993206  123.407388  0.826980  ...   -1.487057  2.487893   83.448000   \n",
       "3   91.572443  108.719836  1.055445  ...   -1.871172  2.441210   83.123734   \n",
       "4   49.706508  125.274355  0.900164  ...   -1.758664 -3.110917    6.357822   \n",
       "\n",
       "      t_eta     t_phi         t_E         t_m  btag1  btag2  btag3  \n",
       "0  1.958788  2.919984  399.158659  164.944705    5.0    1.0    1.0  \n",
       "1  1.958788  2.919984  399.158659  164.944705    5.0    1.0    1.0  \n",
       "2  1.877967 -0.577286  453.880273  357.798334    1.0    1.0    2.0  \n",
       "3  1.720035 -0.884576  444.189780  374.057018    1.0    5.0    2.0  \n",
       "4  4.293132 -2.493616  434.704504  367.160877    1.0    5.0    1.0  \n",
       "\n",
       "[5 rows x 43 columns]"
      ]
     },
     "execution_count": 3,
     "metadata": {},
     "output_type": "execute_result"
    }
   ],
   "source": [
    "df.head()"
   ]
  },
  {
   "cell_type": "code",
   "execution_count": 4,
   "metadata": {},
   "outputs": [
    {
     "name": "stdout",
     "output_type": "stream",
     "text": [
      "(13759043, 43)\n"
     ]
    }
   ],
   "source": [
    "#down-sample the class of non-jet samples to 1/4 of the original size (prevents model bias towards to majority class)\n",
    "pos_class = df[df['label'] == 1]\n",
    "neg_class = df[df['label'] == 0]\n",
    "print(neg_class.shape)\n",
    "neg_class = neg_class.sample(frac=0.3)\n",
    "neg_class.shape\n",
    "final_df = pd.concat([neg_class, pos_class])"
   ]
  },
  {
   "cell_type": "code",
   "execution_count": 5,
   "metadata": {},
   "outputs": [],
   "source": [
    "#dataframe preprocessing\n",
    "y = final_df['label']\n",
    "X = final_df.drop('label', axis=1).drop('rndm', axis=1)"
   ]
  },
  {
   "cell_type": "code",
   "execution_count": 6,
   "metadata": {},
   "outputs": [],
   "source": [
    "#data normalization\n",
    "def normalize(col):\n",
    "    print(col.name)\n",
    "    threshold = col.quantile(0.9)\n",
    "    mini = col.min()\n",
    "    slopeUpper = (1 - 0.8) / (col.max() - threshold)\n",
    "    slopeLower = (0.7 - 0) / (threshold - mini)\n",
    "    def norm_helper(row):\n",
    "        if row > threshold:\n",
    "            return 0.8 + slopeUpper * (row - threshold)\n",
    "        else:\n",
    "            return 0 + slopeLower * (row - mini)\n",
    "    return col.apply(norm_helper)"
   ]
  },
  {
   "cell_type": "code",
   "execution_count": 7,
   "metadata": {},
   "outputs": [
    {
     "name": "stdout",
     "output_type": "stream",
     "text": [
      "weight\n",
      "weight\n",
      "W_B_pt\n",
      "W_B_eta\n",
      "W_B_phi\n",
      "W_B_E\n",
      "W_B_m\n",
      "b_B_pt\n",
      "b_B_eta\n",
      "b_B_phi\n",
      "b_B_E\n",
      "b_B_m\n",
      "Wjj_B_dR\n",
      "tWb_B_dR\n",
      "Wjj_B_deta\n",
      "Wjj_B_dphi\n",
      "tWb_B_deta\n",
      "tWb_B_dphi\n"
     ]
    },
    {
     "name": "stderr",
     "output_type": "stream",
     "text": [
      "/usr/common/software/tensorflow/intel-tensorflow/1.11.0-py36/lib/python3.6/site-packages/ipykernel_launcher.py:6: RuntimeWarning: divide by zero encountered in double_scalars\n",
      "  \n"
     ]
    },
    {
     "name": "stdout",
     "output_type": "stream",
     "text": [
      "W_pt\n",
      "W_eta\n",
      "W_phi\n",
      "W_E\n",
      "W_m\n",
      "b_pt\n",
      "b_eta\n",
      "b_phi\n",
      "b_E\n",
      "b_m\n",
      "Wjj_dR\n",
      "tWb_dR\n",
      "Wjj_deta\n",
      "Wjj_dphi\n",
      "tWb_deta\n",
      "tWb_dphi\n",
      "t_pt\n",
      "t_eta\n",
      "t_phi\n",
      "t_E\n",
      "t_m\n",
      "btag1\n",
      "btag2\n",
      "btag3\n"
     ]
    }
   ],
   "source": [
    "#normalize the data \n",
    "X_norm = X.apply(normalize, axis=0)"
   ]
  },
  {
   "cell_type": "code",
   "execution_count": 8,
   "metadata": {},
   "outputs": [
    {
     "data": {
      "text/html": [
       "<div>\n",
       "<style scoped>\n",
       "    .dataframe tbody tr th:only-of-type {\n",
       "        vertical-align: middle;\n",
       "    }\n",
       "\n",
       "    .dataframe tbody tr th {\n",
       "        vertical-align: top;\n",
       "    }\n",
       "\n",
       "    .dataframe thead th {\n",
       "        text-align: right;\n",
       "    }\n",
       "</style>\n",
       "<table border=\"1\" class=\"dataframe\">\n",
       "  <thead>\n",
       "    <tr style=\"text-align: right;\">\n",
       "      <th></th>\n",
       "      <th>weight</th>\n",
       "      <th>W_B_pt</th>\n",
       "      <th>W_B_eta</th>\n",
       "      <th>W_B_phi</th>\n",
       "      <th>W_B_E</th>\n",
       "      <th>W_B_m</th>\n",
       "      <th>b_B_pt</th>\n",
       "      <th>b_B_eta</th>\n",
       "      <th>b_B_phi</th>\n",
       "      <th>b_B_E</th>\n",
       "      <th>...</th>\n",
       "      <th>tWb_deta</th>\n",
       "      <th>tWb_dphi</th>\n",
       "      <th>t_pt</th>\n",
       "      <th>t_eta</th>\n",
       "      <th>t_phi</th>\n",
       "      <th>t_E</th>\n",
       "      <th>t_m</th>\n",
       "      <th>btag1</th>\n",
       "      <th>btag2</th>\n",
       "      <th>btag3</th>\n",
       "    </tr>\n",
       "  </thead>\n",
       "  <tbody>\n",
       "    <tr>\n",
       "      <th>8266054</th>\n",
       "      <td>0.697979</td>\n",
       "      <td>0.387588</td>\n",
       "      <td>0.540565</td>\n",
       "      <td>0.042527</td>\n",
       "      <td>0.302625</td>\n",
       "      <td>0.333138</td>\n",
       "      <td>0.387588</td>\n",
       "      <td>0.655823</td>\n",
       "      <td>0.431420</td>\n",
       "      <td>0.279927</td>\n",
       "      <td>...</td>\n",
       "      <td>0.379099</td>\n",
       "      <td>0.019105</td>\n",
       "      <td>0.191552</td>\n",
       "      <td>0.448666</td>\n",
       "      <td>0.427255</td>\n",
       "      <td>0.201007</td>\n",
       "      <td>0.298583</td>\n",
       "      <td>0.0</td>\n",
       "      <td>0.7</td>\n",
       "      <td>0.000</td>\n",
       "    </tr>\n",
       "    <tr>\n",
       "      <th>12415385</th>\n",
       "      <td>0.857901</td>\n",
       "      <td>0.800603</td>\n",
       "      <td>0.626862</td>\n",
       "      <td>0.004526</td>\n",
       "      <td>0.444952</td>\n",
       "      <td>0.492820</td>\n",
       "      <td>0.800603</td>\n",
       "      <td>0.557868</td>\n",
       "      <td>0.393410</td>\n",
       "      <td>0.388663</td>\n",
       "      <td>...</td>\n",
       "      <td>0.632702</td>\n",
       "      <td>0.026044</td>\n",
       "      <td>0.073190</td>\n",
       "      <td>0.698492</td>\n",
       "      <td>0.256142</td>\n",
       "      <td>0.241659</td>\n",
       "      <td>0.432561</td>\n",
       "      <td>0.0</td>\n",
       "      <td>0.0</td>\n",
       "      <td>0.000</td>\n",
       "    </tr>\n",
       "    <tr>\n",
       "      <th>8977829</th>\n",
       "      <td>0.585094</td>\n",
       "      <td>0.111862</td>\n",
       "      <td>0.354991</td>\n",
       "      <td>0.138115</td>\n",
       "      <td>0.804401</td>\n",
       "      <td>0.651016</td>\n",
       "      <td>0.111862</td>\n",
       "      <td>0.858469</td>\n",
       "      <td>0.527028</td>\n",
       "      <td>0.816714</td>\n",
       "      <td>...</td>\n",
       "      <td>0.284005</td>\n",
       "      <td>0.340229</td>\n",
       "      <td>0.311913</td>\n",
       "      <td>0.475317</td>\n",
       "      <td>0.190834</td>\n",
       "      <td>0.617971</td>\n",
       "      <td>0.812625</td>\n",
       "      <td>0.0</td>\n",
       "      <td>0.0</td>\n",
       "      <td>0.525</td>\n",
       "    </tr>\n",
       "    <tr>\n",
       "      <th>14310120</th>\n",
       "      <td>0.650235</td>\n",
       "      <td>0.406951</td>\n",
       "      <td>0.634651</td>\n",
       "      <td>0.365161</td>\n",
       "      <td>0.181870</td>\n",
       "      <td>0.180380</td>\n",
       "      <td>0.406951</td>\n",
       "      <td>0.549027</td>\n",
       "      <td>0.939193</td>\n",
       "      <td>0.223458</td>\n",
       "      <td>...</td>\n",
       "      <td>0.669340</td>\n",
       "      <td>0.099022</td>\n",
       "      <td>0.189180</td>\n",
       "      <td>0.655096</td>\n",
       "      <td>0.692120</td>\n",
       "      <td>0.134480</td>\n",
       "      <td>0.197701</td>\n",
       "      <td>0.0</td>\n",
       "      <td>0.0</td>\n",
       "      <td>0.000</td>\n",
       "    </tr>\n",
       "    <tr>\n",
       "      <th>2073905</th>\n",
       "      <td>0.646105</td>\n",
       "      <td>0.570210</td>\n",
       "      <td>0.692755</td>\n",
       "      <td>0.355604</td>\n",
       "      <td>0.460159</td>\n",
       "      <td>0.395576</td>\n",
       "      <td>0.570210</td>\n",
       "      <td>0.483074</td>\n",
       "      <td>0.914610</td>\n",
       "      <td>0.635330</td>\n",
       "      <td>...</td>\n",
       "      <td>0.806282</td>\n",
       "      <td>0.388885</td>\n",
       "      <td>0.654826</td>\n",
       "      <td>0.663673</td>\n",
       "      <td>0.924704</td>\n",
       "      <td>0.560228</td>\n",
       "      <td>0.530881</td>\n",
       "      <td>0.7</td>\n",
       "      <td>0.0</td>\n",
       "      <td>0.000</td>\n",
       "    </tr>\n",
       "  </tbody>\n",
       "</table>\n",
       "<p>5 rows × 41 columns</p>\n",
       "</div>"
      ],
      "text/plain": [
       "            weight    W_B_pt   W_B_eta   W_B_phi     W_B_E     W_B_m  \\\n",
       "8266054   0.697979  0.387588  0.540565  0.042527  0.302625  0.333138   \n",
       "12415385  0.857901  0.800603  0.626862  0.004526  0.444952  0.492820   \n",
       "8977829   0.585094  0.111862  0.354991  0.138115  0.804401  0.651016   \n",
       "14310120  0.650235  0.406951  0.634651  0.365161  0.181870  0.180380   \n",
       "2073905   0.646105  0.570210  0.692755  0.355604  0.460159  0.395576   \n",
       "\n",
       "            b_B_pt   b_B_eta   b_B_phi     b_B_E  ...    tWb_deta  tWb_dphi  \\\n",
       "8266054   0.387588  0.655823  0.431420  0.279927  ...    0.379099  0.019105   \n",
       "12415385  0.800603  0.557868  0.393410  0.388663  ...    0.632702  0.026044   \n",
       "8977829   0.111862  0.858469  0.527028  0.816714  ...    0.284005  0.340229   \n",
       "14310120  0.406951  0.549027  0.939193  0.223458  ...    0.669340  0.099022   \n",
       "2073905   0.570210  0.483074  0.914610  0.635330  ...    0.806282  0.388885   \n",
       "\n",
       "              t_pt     t_eta     t_phi       t_E       t_m  btag1  btag2  \\\n",
       "8266054   0.191552  0.448666  0.427255  0.201007  0.298583    0.0    0.7   \n",
       "12415385  0.073190  0.698492  0.256142  0.241659  0.432561    0.0    0.0   \n",
       "8977829   0.311913  0.475317  0.190834  0.617971  0.812625    0.0    0.0   \n",
       "14310120  0.189180  0.655096  0.692120  0.134480  0.197701    0.0    0.0   \n",
       "2073905   0.654826  0.663673  0.924704  0.560228  0.530881    0.7    0.0   \n",
       "\n",
       "          btag3  \n",
       "8266054   0.000  \n",
       "12415385  0.000  \n",
       "8977829   0.525  \n",
       "14310120  0.000  \n",
       "2073905   0.000  \n",
       "\n",
       "[5 rows x 41 columns]"
      ]
     },
     "execution_count": 8,
     "metadata": {},
     "output_type": "execute_result"
    }
   ],
   "source": [
    "X_norm.head()"
   ]
  },
  {
   "cell_type": "code",
   "execution_count": null,
   "metadata": {},
   "outputs": [],
   "source": [
    "#convert normalized dataframe to CSV file so that we don't have to renormalize everytime\n",
    "#X_norm.to_csv('~/projects/top-reco-tests/samples/norm_result.csv')"
   ]
  },
  {
   "cell_type": "code",
   "execution_count": null,
   "metadata": {},
   "outputs": [],
   "source": [
    "#X_norm = pd.read_csv('~/projects/top-reco-tests/samples/norm_result.csv', delimiter=',')\n",
    "#X_norm = X_norm.drop('Unnamed: 0', axis=1)\n",
    "#X_norm.head()"
   ]
  },
  {
   "cell_type": "code",
   "execution_count": 9,
   "metadata": {},
   "outputs": [],
   "source": [
    "#Randomly split the data for training and testing using sklearn's train_test_split method\n",
    "X_train, X_test, y_train, y_test = train_test_split(X_norm, y, test_size=.15, shuffle=True)\n",
    "X_train, X_val, y_train, y_val = train_test_split(X_train, y_train, test_size=.15, shuffle=True)"
   ]
  },
  {
   "cell_type": "code",
   "execution_count": 10,
   "metadata": {},
   "outputs": [
    {
     "name": "stdout",
     "output_type": "stream",
     "text": [
      "X_train events: 3758119\n",
      "X_test events: 780233\n",
      "X_val events: 663198\n",
      "Pos training events: 775853\n",
      "Negative training events: 2982266\n"
     ]
    }
   ],
   "source": [
    "#print out the number of events for the trianing, testing, and validation sets\n",
    "print(\"X_train events: \" + str(X_train.shape[0]))\n",
    "print(\"X_test events: \" + str(X_test.shape[0]))\n",
    "print(\"X_val events: \" + str(X_val.shape[0]))\n",
    "print(\"Pos training events: \" + str(sum(y_train == 1)))\n",
    "print(\"Negative training events: \" + str(sum(y_train == 0)))"
   ]
  },
  {
   "cell_type": "code",
   "execution_count": 11,
   "metadata": {},
   "outputs": [
    {
     "name": "stdout",
     "output_type": "stream",
     "text": [
      "Percent of positive class in the training set: 0.20644716146561617\n"
     ]
    }
   ],
   "source": [
    "#calculate the % of samples that are positively labeled in the training data\n",
    "print(\"Percent of positive class in the training set: {0}\".format(sum(y_train == 1) / (sum(y_train == 1) + sum(y_train == 0))))"
   ]
  },
  {
   "cell_type": "code",
   "execution_count": 12,
   "metadata": {},
   "outputs": [],
   "source": [
    "#Hyper-parameters\n",
    "max_num_epochs = 15\n",
    "batch_size = 512\n",
    "learning_rate = 0.005\n",
    "num_batches = int(len(X_train) / batch_size)"
   ]
  },
  {
   "cell_type": "code",
   "execution_count": 13,
   "metadata": {},
   "outputs": [],
   "source": [
    "#Network Paramters\n",
    "n_features = X_train.shape[1]\n",
    "n_nodes_1 = 256\n",
    "n_nodes_2 = 128\n",
    "n_nodes_3 = 64\n",
    "n_nodes_4 = 32\n",
    "n_out = 2"
   ]
  },
  {
   "cell_type": "code",
   "execution_count": 14,
   "metadata": {},
   "outputs": [],
   "source": [
    "#Create placeholders for the input data\n",
    "X_tr = tf.placeholder(tf.float32, shape=[None, n_features])\n",
    "y_tr = tf.placeholder(tf.float32, shape=[None, 2])\n",
    "training = tf.placeholder(tf.bool, name='training')"
   ]
  },
  {
   "cell_type": "code",
   "execution_count": 15,
   "metadata": {},
   "outputs": [],
   "source": [
    "#Build the graph\n",
    "W1 =tf.Variable(tf.truncated_normal([n_features, n_nodes_1], stddev=0.1))\n",
    "b1 = tf.Variable(tf.constant(0.1, shape=[1, n_nodes_1]))\n",
    "batch_norm1 = tf.layers.batch_normalization(inputs=tf.matmul(X_tr, W1) + b1, training=training)\n",
    "layer1 = tf.nn.relu(batch_norm1)\n",
    "\n",
    "W2 = tf.Variable(tf.truncated_normal([n_nodes_1, n_nodes_2], stddev=0.1))\n",
    "b2 = tf.Variable(tf.constant(0.1, shape=[1, n_nodes_2]))\n",
    "batch_norm2 = tf.layers.batch_normalization(inputs=tf.matmul(layer1, W2) + b2, training=training)\n",
    "layer2 = tf.nn.relu(batch_norm2)\n",
    "\n",
    "W3 = tf.Variable(tf.truncated_normal([n_nodes_2, n_nodes_3], stddev=0.1))\n",
    "b3 = tf.Variable(tf.constant(0.1, shape=[1, n_nodes_3]))\n",
    "batch_norm3 = tf.layers.batch_normalization(inputs=tf.matmul(layer2, W3) + b3, training=training)\n",
    "layer3 = tf.nn.relu(batch_norm3)\n",
    "\n",
    "W4 = tf.Variable(tf.truncated_normal([n_nodes_3, n_nodes_4], stddev=0.1))\n",
    "b4 = tf.Variable(tf.constant(0.1, shape=[1, n_nodes_4]))\n",
    "layer4 = tf.nn.relu(tf.matmul(layer3, W4) + b4)\n",
    "\n",
    "W_out = tf.Variable(tf.truncated_normal([n_nodes_4, n_out], stddev=0.1))\n",
    "b_out = tf.Variable(tf.constant(0.1, shape=[1, n_out]))\n",
    "logits = tf.matmul(layer4, W_out) + b_out"
   ]
  },
  {
   "cell_type": "code",
   "execution_count": 16,
   "metadata": {},
   "outputs": [],
   "source": [
    "#Calculate the loss using Cross Entropy and define the optimizer\n",
    "entropy = tf.nn.weighted_cross_entropy_with_logits(logits=logits, targets=y_tr, pos_weight=1.5)\n",
    "loss = tf.reduce_mean(entropy)\n",
    "optimizer = tf.train.AdamOptimizer(learning_rate=learning_rate).minimize(loss)"
   ]
  },
  {
   "cell_type": "code",
   "execution_count": 17,
   "metadata": {},
   "outputs": [],
   "source": [
    "#compute the accuracy using Area Under Curve -- this gives us a better metric for imbalanced datasets\n",
    "prediction = tf.cast(tf.argmax(tf.nn.softmax(logits), axis=1), tf.float32)\n",
    "actual = tf.cast(tf.argmax(y_tr, axis=1), tf.float32)\n",
    "accuracy = tf.reduce_mean(tf.cast(tf.equal(prediction, actual), tf.float32))\n",
    "auc = tf.metrics.auc(labels=actual, predictions=prediction)"
   ]
  },
  {
   "cell_type": "code",
   "execution_count": 18,
   "metadata": {},
   "outputs": [],
   "source": [
    "#create the session\n",
    "sess = tf.InteractiveSession()\n",
    "sess.run(tf.group(tf.global_variables_initializer(), tf.local_variables_initializer()))\n",
    "saver = tf.train.Saver()"
   ]
  },
  {
   "cell_type": "code",
   "execution_count": 19,
   "metadata": {},
   "outputs": [
    {
     "name": "stdout",
     "output_type": "stream",
     "text": [
      "Epoch 0 ==> Acc:0.890625, AUC: 0.7419406175613403, Loss: 9480.50166875124\n",
      "Epoch 1 ==> Acc:0.90625, AUC: 0.7450562715530396, Loss: 9269.652017608285\n",
      "Epoch 2 ==> Acc:0.9140625, AUC: 0.7464731335639954, Loss: 9208.080362603068\n",
      "Epoch 3 ==> Acc:0.9140625, AUC: 0.7475801706314087, Loss: 9172.538533970714\n",
      "Epoch 4 ==> Acc:0.90625, AUC: 0.7483936548233032, Loss: 9155.834634691477\n",
      "Epoch 5 ==> Acc:0.9296875, AUC: 0.7489691376686096, Loss: 9144.962715655565\n",
      "Val Accuracy 0.7934131026268005, AUC score 0.7489696145057678\n",
      "Epoch 6 ==> Acc:0.8984375, AUC: 0.7432739734649658, Loss: 9131.600544527173\n",
      "Epoch 7 ==> Acc:0.8828125, AUC: 0.7444036602973938, Loss: 9124.860549017787\n",
      "Epoch 8 ==> Acc:0.8984375, AUC: 0.7453882694244385, Loss: 9113.73338843882\n",
      "Epoch 9 ==> Acc:0.9296875, AUC: 0.7460806965827942, Loss: 9112.54985718429\n",
      "Epoch 10 ==> Acc:0.921875, AUC: 0.7467236518859863, Loss: 9104.045041263103\n",
      "Val Accuracy 0.7934131026268005, AUC score 0.7467238306999207\n"
     ]
    },
    {
     "ename": "KeyboardInterrupt",
     "evalue": "",
     "output_type": "error",
     "traceback": [
      "\u001b[0;31m---------------------------------------------------------------------------\u001b[0m",
      "\u001b[0;31mKeyboardInterrupt\u001b[0m                         Traceback (most recent call last)",
      "\u001b[0;32m<ipython-input-19-afb6429fcb15>\u001b[0m in \u001b[0;36m<module>\u001b[0;34m\u001b[0m\n\u001b[1;32m     12\u001b[0m         \u001b[0;31m#training\u001b[0m\u001b[0;34m\u001b[0m\u001b[0;34m\u001b[0m\u001b[0m\n\u001b[1;32m     13\u001b[0m         \u001b[0mX_batch\u001b[0m\u001b[0;34m,\u001b[0m \u001b[0my_batch\u001b[0m \u001b[0;34m=\u001b[0m \u001b[0mX_train\u001b[0m\u001b[0;34m.\u001b[0m\u001b[0miloc\u001b[0m\u001b[0;34m[\u001b[0m\u001b[0mindex\u001b[0m\u001b[0;34m:\u001b[0m\u001b[0mlast\u001b[0m\u001b[0;34m]\u001b[0m\u001b[0;34m.\u001b[0m\u001b[0mvalues\u001b[0m\u001b[0;34m,\u001b[0m \u001b[0mtf\u001b[0m\u001b[0;34m.\u001b[0m\u001b[0mkeras\u001b[0m\u001b[0;34m.\u001b[0m\u001b[0mutils\u001b[0m\u001b[0;34m.\u001b[0m\u001b[0mto_categorical\u001b[0m\u001b[0;34m(\u001b[0m\u001b[0my_train\u001b[0m\u001b[0;34m.\u001b[0m\u001b[0miloc\u001b[0m\u001b[0;34m[\u001b[0m\u001b[0mindex\u001b[0m\u001b[0;34m:\u001b[0m\u001b[0mlast\u001b[0m\u001b[0;34m]\u001b[0m\u001b[0;34m)\u001b[0m\u001b[0;34m\u001b[0m\u001b[0m\n\u001b[0;32m---> 14\u001b[0;31m         \u001b[0mopt\u001b[0m\u001b[0;34m,\u001b[0m \u001b[0mbatch_loss\u001b[0m\u001b[0;34m,\u001b[0m \u001b[0macc\u001b[0m\u001b[0;34m,\u001b[0m \u001b[0mauc_score\u001b[0m \u001b[0;34m=\u001b[0m \u001b[0msess\u001b[0m\u001b[0;34m.\u001b[0m\u001b[0mrun\u001b[0m\u001b[0;34m(\u001b[0m\u001b[0;34m[\u001b[0m\u001b[0moptimizer\u001b[0m\u001b[0;34m,\u001b[0m \u001b[0mloss\u001b[0m\u001b[0;34m,\u001b[0m \u001b[0maccuracy\u001b[0m\u001b[0;34m,\u001b[0m \u001b[0mauc\u001b[0m\u001b[0;34m]\u001b[0m\u001b[0;34m,\u001b[0m \u001b[0mfeed_dict\u001b[0m\u001b[0;34m=\u001b[0m\u001b[0;34m{\u001b[0m\u001b[0mX_tr\u001b[0m\u001b[0;34m:\u001b[0m \u001b[0mX_batch\u001b[0m\u001b[0;34m,\u001b[0m \u001b[0my_tr\u001b[0m\u001b[0;34m:\u001b[0m \u001b[0my_batch\u001b[0m\u001b[0;34m,\u001b[0m \u001b[0mtraining\u001b[0m\u001b[0;34m:\u001b[0m \u001b[0;32mTrue\u001b[0m\u001b[0;34m}\u001b[0m\u001b[0;34m)\u001b[0m\u001b[0;34m\u001b[0m\u001b[0m\n\u001b[0m\u001b[1;32m     15\u001b[0m         \u001b[0mtotal_loss\u001b[0m \u001b[0;34m+=\u001b[0m \u001b[0mbatch_loss\u001b[0m\u001b[0;34m\u001b[0m\u001b[0m\n\u001b[1;32m     16\u001b[0m     \u001b[0mprint\u001b[0m\u001b[0;34m(\u001b[0m\u001b[0;34m\"Epoch {0} ==> Acc:{1}, AUC: {2}, Loss: {3}\"\u001b[0m\u001b[0;34m.\u001b[0m\u001b[0mformat\u001b[0m\u001b[0;34m(\u001b[0m\u001b[0mepoch\u001b[0m\u001b[0;34m,\u001b[0m \u001b[0macc\u001b[0m\u001b[0;34m,\u001b[0m \u001b[0mfloat\u001b[0m\u001b[0;34m(\u001b[0m\u001b[0mauc_score\u001b[0m\u001b[0;34m[\u001b[0m\u001b[0;36m0\u001b[0m\u001b[0;34m]\u001b[0m\u001b[0;34m)\u001b[0m\u001b[0;34m,\u001b[0m \u001b[0mtotal_loss\u001b[0m\u001b[0;34m)\u001b[0m\u001b[0;34m)\u001b[0m\u001b[0;34m\u001b[0m\u001b[0m\n",
      "\u001b[0;32m/usr/common/software/tensorflow/intel-tensorflow/1.11.0-py36/lib/python3.6/site-packages/tensorflow/python/client/session.py\u001b[0m in \u001b[0;36mrun\u001b[0;34m(self, fetches, feed_dict, options, run_metadata)\u001b[0m\n\u001b[1;32m    885\u001b[0m     \u001b[0;32mtry\u001b[0m\u001b[0;34m:\u001b[0m\u001b[0;34m\u001b[0m\u001b[0m\n\u001b[1;32m    886\u001b[0m       result = self._run(None, fetches, feed_dict, options_ptr,\n\u001b[0;32m--> 887\u001b[0;31m                          run_metadata_ptr)\n\u001b[0m\u001b[1;32m    888\u001b[0m       \u001b[0;32mif\u001b[0m \u001b[0mrun_metadata\u001b[0m\u001b[0;34m:\u001b[0m\u001b[0;34m\u001b[0m\u001b[0m\n\u001b[1;32m    889\u001b[0m         \u001b[0mproto_data\u001b[0m \u001b[0;34m=\u001b[0m \u001b[0mtf_session\u001b[0m\u001b[0;34m.\u001b[0m\u001b[0mTF_GetBuffer\u001b[0m\u001b[0;34m(\u001b[0m\u001b[0mrun_metadata_ptr\u001b[0m\u001b[0;34m)\u001b[0m\u001b[0;34m\u001b[0m\u001b[0m\n",
      "\u001b[0;32m/usr/common/software/tensorflow/intel-tensorflow/1.11.0-py36/lib/python3.6/site-packages/tensorflow/python/client/session.py\u001b[0m in \u001b[0;36m_run\u001b[0;34m(self, handle, fetches, feed_dict, options, run_metadata)\u001b[0m\n\u001b[1;32m   1108\u001b[0m     \u001b[0;32mif\u001b[0m \u001b[0mfinal_fetches\u001b[0m \u001b[0;32mor\u001b[0m \u001b[0mfinal_targets\u001b[0m \u001b[0;32mor\u001b[0m \u001b[0;34m(\u001b[0m\u001b[0mhandle\u001b[0m \u001b[0;32mand\u001b[0m \u001b[0mfeed_dict_tensor\u001b[0m\u001b[0;34m)\u001b[0m\u001b[0;34m:\u001b[0m\u001b[0;34m\u001b[0m\u001b[0m\n\u001b[1;32m   1109\u001b[0m       results = self._do_run(handle, final_targets, final_fetches,\n\u001b[0;32m-> 1110\u001b[0;31m                              feed_dict_tensor, options, run_metadata)\n\u001b[0m\u001b[1;32m   1111\u001b[0m     \u001b[0;32melse\u001b[0m\u001b[0;34m:\u001b[0m\u001b[0;34m\u001b[0m\u001b[0m\n\u001b[1;32m   1112\u001b[0m       \u001b[0mresults\u001b[0m \u001b[0;34m=\u001b[0m \u001b[0;34m[\u001b[0m\u001b[0;34m]\u001b[0m\u001b[0;34m\u001b[0m\u001b[0m\n",
      "\u001b[0;32m/usr/common/software/tensorflow/intel-tensorflow/1.11.0-py36/lib/python3.6/site-packages/tensorflow/python/client/session.py\u001b[0m in \u001b[0;36m_do_run\u001b[0;34m(self, handle, target_list, fetch_list, feed_dict, options, run_metadata)\u001b[0m\n\u001b[1;32m   1284\u001b[0m     \u001b[0;32mif\u001b[0m \u001b[0mhandle\u001b[0m \u001b[0;32mis\u001b[0m \u001b[0;32mNone\u001b[0m\u001b[0;34m:\u001b[0m\u001b[0;34m\u001b[0m\u001b[0m\n\u001b[1;32m   1285\u001b[0m       return self._do_call(_run_fn, feeds, fetches, targets, options,\n\u001b[0;32m-> 1286\u001b[0;31m                            run_metadata)\n\u001b[0m\u001b[1;32m   1287\u001b[0m     \u001b[0;32melse\u001b[0m\u001b[0;34m:\u001b[0m\u001b[0;34m\u001b[0m\u001b[0m\n\u001b[1;32m   1288\u001b[0m       \u001b[0;32mreturn\u001b[0m \u001b[0mself\u001b[0m\u001b[0;34m.\u001b[0m\u001b[0m_do_call\u001b[0m\u001b[0;34m(\u001b[0m\u001b[0m_prun_fn\u001b[0m\u001b[0;34m,\u001b[0m \u001b[0mhandle\u001b[0m\u001b[0;34m,\u001b[0m \u001b[0mfeeds\u001b[0m\u001b[0;34m,\u001b[0m \u001b[0mfetches\u001b[0m\u001b[0;34m)\u001b[0m\u001b[0;34m\u001b[0m\u001b[0m\n",
      "\u001b[0;32m/usr/common/software/tensorflow/intel-tensorflow/1.11.0-py36/lib/python3.6/site-packages/tensorflow/python/client/session.py\u001b[0m in \u001b[0;36m_do_call\u001b[0;34m(self, fn, *args)\u001b[0m\n\u001b[1;32m   1290\u001b[0m   \u001b[0;32mdef\u001b[0m \u001b[0m_do_call\u001b[0m\u001b[0;34m(\u001b[0m\u001b[0mself\u001b[0m\u001b[0;34m,\u001b[0m \u001b[0mfn\u001b[0m\u001b[0;34m,\u001b[0m \u001b[0;34m*\u001b[0m\u001b[0margs\u001b[0m\u001b[0;34m)\u001b[0m\u001b[0;34m:\u001b[0m\u001b[0;34m\u001b[0m\u001b[0m\n\u001b[1;32m   1291\u001b[0m     \u001b[0;32mtry\u001b[0m\u001b[0;34m:\u001b[0m\u001b[0;34m\u001b[0m\u001b[0m\n\u001b[0;32m-> 1292\u001b[0;31m       \u001b[0;32mreturn\u001b[0m \u001b[0mfn\u001b[0m\u001b[0;34m(\u001b[0m\u001b[0;34m*\u001b[0m\u001b[0margs\u001b[0m\u001b[0;34m)\u001b[0m\u001b[0;34m\u001b[0m\u001b[0m\n\u001b[0m\u001b[1;32m   1293\u001b[0m     \u001b[0;32mexcept\u001b[0m \u001b[0merrors\u001b[0m\u001b[0;34m.\u001b[0m\u001b[0mOpError\u001b[0m \u001b[0;32mas\u001b[0m \u001b[0me\u001b[0m\u001b[0;34m:\u001b[0m\u001b[0;34m\u001b[0m\u001b[0m\n\u001b[1;32m   1294\u001b[0m       \u001b[0mmessage\u001b[0m \u001b[0;34m=\u001b[0m \u001b[0mcompat\u001b[0m\u001b[0;34m.\u001b[0m\u001b[0mas_text\u001b[0m\u001b[0;34m(\u001b[0m\u001b[0me\u001b[0m\u001b[0;34m.\u001b[0m\u001b[0mmessage\u001b[0m\u001b[0;34m)\u001b[0m\u001b[0;34m\u001b[0m\u001b[0m\n",
      "\u001b[0;32m/usr/common/software/tensorflow/intel-tensorflow/1.11.0-py36/lib/python3.6/site-packages/tensorflow/python/client/session.py\u001b[0m in \u001b[0;36m_run_fn\u001b[0;34m(feed_dict, fetch_list, target_list, options, run_metadata)\u001b[0m\n\u001b[1;32m   1275\u001b[0m       \u001b[0mself\u001b[0m\u001b[0;34m.\u001b[0m\u001b[0m_extend_graph\u001b[0m\u001b[0;34m(\u001b[0m\u001b[0;34m)\u001b[0m\u001b[0;34m\u001b[0m\u001b[0m\n\u001b[1;32m   1276\u001b[0m       return self._call_tf_sessionrun(\n\u001b[0;32m-> 1277\u001b[0;31m           options, feed_dict, fetch_list, target_list, run_metadata)\n\u001b[0m\u001b[1;32m   1278\u001b[0m \u001b[0;34m\u001b[0m\u001b[0m\n\u001b[1;32m   1279\u001b[0m     \u001b[0;32mdef\u001b[0m \u001b[0m_prun_fn\u001b[0m\u001b[0;34m(\u001b[0m\u001b[0mhandle\u001b[0m\u001b[0;34m,\u001b[0m \u001b[0mfeed_dict\u001b[0m\u001b[0;34m,\u001b[0m \u001b[0mfetch_list\u001b[0m\u001b[0;34m)\u001b[0m\u001b[0;34m:\u001b[0m\u001b[0;34m\u001b[0m\u001b[0m\n",
      "\u001b[0;32m/usr/common/software/tensorflow/intel-tensorflow/1.11.0-py36/lib/python3.6/site-packages/tensorflow/python/client/session.py\u001b[0m in \u001b[0;36m_call_tf_sessionrun\u001b[0;34m(self, options, feed_dict, fetch_list, target_list, run_metadata)\u001b[0m\n\u001b[1;32m   1365\u001b[0m     return tf_session.TF_SessionRun_wrapper(\n\u001b[1;32m   1366\u001b[0m         \u001b[0mself\u001b[0m\u001b[0;34m.\u001b[0m\u001b[0m_session\u001b[0m\u001b[0;34m,\u001b[0m \u001b[0moptions\u001b[0m\u001b[0;34m,\u001b[0m \u001b[0mfeed_dict\u001b[0m\u001b[0;34m,\u001b[0m \u001b[0mfetch_list\u001b[0m\u001b[0;34m,\u001b[0m \u001b[0mtarget_list\u001b[0m\u001b[0;34m,\u001b[0m\u001b[0;34m\u001b[0m\u001b[0m\n\u001b[0;32m-> 1367\u001b[0;31m         run_metadata)\n\u001b[0m\u001b[1;32m   1368\u001b[0m \u001b[0;34m\u001b[0m\u001b[0m\n\u001b[1;32m   1369\u001b[0m   \u001b[0;32mdef\u001b[0m \u001b[0m_call_tf_sessionprun\u001b[0m\u001b[0;34m(\u001b[0m\u001b[0mself\u001b[0m\u001b[0;34m,\u001b[0m \u001b[0mhandle\u001b[0m\u001b[0;34m,\u001b[0m \u001b[0mfeed_dict\u001b[0m\u001b[0;34m,\u001b[0m \u001b[0mfetch_list\u001b[0m\u001b[0;34m)\u001b[0m\u001b[0;34m:\u001b[0m\u001b[0;34m\u001b[0m\u001b[0m\n",
      "\u001b[0;31mKeyboardInterrupt\u001b[0m: "
     ]
    }
   ],
   "source": [
    "#run the model on the input data and calculate/print validation and training accuracy for each epoch\n",
    "epoch = 0\n",
    "best_val_acc = 0\n",
    "loss_decreased = False\n",
    "loss_decrease_threshold = 0.1\n",
    "\n",
    "while epoch < max_num_epochs:\n",
    "    total_loss = 0\n",
    "    for batch in range(num_batches):\n",
    "        index = batch * batch_size\n",
    "        last = index + batch_size\n",
    "        #training\n",
    "        X_batch, y_batch = X_train.iloc[index:last].values, tf.keras.utils.to_categorical(y_train.iloc[index:last])\n",
    "        opt, batch_loss, acc, auc_score = sess.run([optimizer, loss, accuracy, auc], feed_dict={X_tr: X_batch, y_tr: y_batch, training: True})\n",
    "        total_loss += batch_loss\n",
    "    print(\"Epoch {0} ==> Acc:{1}, AUC: {2}, Loss: {3}\".format(epoch, acc, float(auc_score[0]), total_loss))\n",
    "    #test validation accuracy every 10 epochs\n",
    "    if epoch % 5 == 0 and epoch != 0:\n",
    "        val_acc, val_auc_score = sess.run([accuracy, auc], feed_dict={X_tr: X_val.values, y_tr: tf.keras.utils.to_categorical(y_val), training: False})\n",
    "        print(\"Val Accuracy {0}, AUC score {1}\".format(val_acc, val_auc_score[0]))\n",
    "        \n",
    "        #implement early stopping\n",
    "        if (best_val_acc > (float(val_auc_score[0]) * (1 + loss_decrease_threshold))):\n",
    "            if (loss_decreased):\n",
    "                break\n",
    "            else:\n",
    "                loss_decreased = True\n",
    "        else:\n",
    "            best_val_acc = max(float(val_auc_score[0]), best_val_acc)\n",
    "            loss_decreased = False\n",
    "        \n",
    "    epoch += 1;"
   ]
  },
  {
   "cell_type": "code",
   "execution_count": 20,
   "metadata": {},
   "outputs": [
    {
     "name": "stdout",
     "output_type": "stream",
     "text": [
      "Test Accuracy: 0.7936821579933167\n"
     ]
    }
   ],
   "source": [
    "#test the model on test data that was take from result.csv \n",
    "test_acc, predictions = sess.run([accuracy, prediction], feed_dict={X_tr: X_test.values, y_tr: tf.keras.utils.to_categorical(y_test), training: False})\n",
    "print(\"Test Accuracy: {0}\".format(test_acc))"
   ]
  },
  {
   "cell_type": "code",
   "execution_count": 29,
   "metadata": {},
   "outputs": [
    {
     "name": "stdout",
     "output_type": "stream",
     "text": [
      "Percent classified as a triplet: 0.0\n"
     ]
    },
    {
     "data": {
      "text/plain": [
       "0.0"
      ]
     },
     "execution_count": 29,
     "metadata": {},
     "output_type": "execute_result"
    }
   ],
   "source": [
    "#Print out the percent of values that were classified as tripets in the test set \n",
    "print(\"Percent classified as a triplet: {0}\".format(sum(predictions) / X_test.shape[0]))\n",
    "sum(predictions)"
   ]
  },
  {
   "cell_type": "code",
   "execution_count": null,
   "metadata": {},
   "outputs": [],
   "source": [
    "#save the model\n",
    "save_path = saver.save(sess, \"models/model2.ckpt\")\n",
    "print(\"Model saved in path: %s\" % save_path)"
   ]
  },
  {
   "cell_type": "code",
   "execution_count": 27,
   "metadata": {},
   "outputs": [
    {
     "name": "stdout",
     "output_type": "stream",
     "text": [
      "[array([0.], dtype=float32)]\n",
      "1\n"
     ]
    }
   ],
   "source": [
    "#test the model on specific instances.\n",
    "index = 20067\n",
    "pos_class_test = X_train.iloc[int(np.argwhere(y_train == 1)[index])]\n",
    "print(sess.run([prediction], feed_dict={X_tr: np.array(pos_class_test).reshape(-1, 41), training: False}))\n",
    "print(np.array(y_train.iloc[np.argwhere(y_train == 1)[index]])[0])"
   ]
  },
  {
   "cell_type": "code",
   "execution_count": null,
   "metadata": {},
   "outputs": [],
   "source": [
    "#saver.restore(sess, \"models/model.ckpt\")\n",
    "#print(\"Model Restored\")"
   ]
  },
  {
   "cell_type": "code",
   "execution_count": null,
   "metadata": {},
   "outputs": [],
   "source": [
    "#close the current session and drop all saved variable values. --MAKE SURE TO SAVE FIRST--\n",
    "sess.close()"
   ]
  },
  {
   "cell_type": "code",
   "execution_count": null,
   "metadata": {},
   "outputs": [],
   "source": []
  }
 ],
 "metadata": {
  "kernelspec": {
   "display_name": "TensorFlow 1.11 py36",
   "language": "python",
   "name": "tensorflow_1.11.0_py36"
  },
  "language_info": {
   "codemirror_mode": {
    "name": "ipython",
    "version": 3
   },
   "file_extension": ".py",
   "mimetype": "text/x-python",
   "name": "python",
   "nbconvert_exporter": "python",
   "pygments_lexer": "ipython3",
   "version": "3.6.5"
  }
 },
 "nbformat": 4,
 "nbformat_minor": 2
}
