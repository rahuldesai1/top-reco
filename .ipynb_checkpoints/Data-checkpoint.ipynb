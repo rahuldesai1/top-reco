{
 "cells": [
  {
   "cell_type": "code",
   "execution_count": 1,
   "metadata": {},
   "outputs": [],
   "source": [
    "import matplotlib.pyplot as plt\n",
    "from mpl_toolkits.mplot3d import Axes3D\n",
    "import pandas as pd\n",
    "from sklearn.decomposition import PCA\n",
    "import numpy as np\n",
    "import os\n",
    "import tensorflow as tf"
   ]
  },
  {
   "cell_type": "code",
   "execution_count": 2,
   "metadata": {},
   "outputs": [],
   "source": [
    "def plot(json_path):  \n",
    "    df = pd.read_json(json_path)\n",
    "    results_se = []\n",
    "    results_ba = []\n",
    "    for i in df['Threshold Values'][0]:\n",
    "        results_se.append(i['Signal Efficiency'])\n",
    "        results_ba.append(i['Background Acceptance'])\n",
    "    \n",
    "    plt.plot(results_ba, results_se)\n",
    "    plt.xlabel(\"Background Acceptance\")\n",
    "    plt.ylabel(\"Signal Efficiency\")"
   ]
  },
  {
   "cell_type": "code",
   "execution_count": 3,
   "metadata": {},
   "outputs": [],
   "source": [
    "def calcArea(results_se, results_ba):    \n",
    "    total_area = 0\n",
    "    values = list(zip(results_se, results_ba))\n",
    "    values.sort(key=lambda x: x[1])\n",
    "\n",
    "    prev = values[0][1]\n",
    "    for curr in values:\n",
    "        total_area += (curr[1] - prev) * curr[0]\n",
    "        prev = curr[1]\n",
    "\n",
    "    total_area"
   ]
  },
  {
   "cell_type": "code",
   "execution_count": 17,
   "metadata": {},
   "outputs": [
    {
     "data": {
      "image/png": "[encoded data removed]",
      "text/plain": [
       "<Figure size 432x288 with 1 Axes>"
      ]
     },
     "metadata": {
      "needs_background": "light"
     },
     "output_type": "display_data"
    }
   ],
   "source": [
    "plot('searched_models/model_2/model_metrics.json')\n",
    "\n"
   ]
  },
  {
   "cell_type": "code",
   "execution_count": null,
   "metadata": {},
   "outputs": [],
   "source": []
  },
  {
   "cell_type": "code",
   "execution_count": null,
   "metadata": {},
   "outputs": [],
   "source": []
  },
  {
   "cell_type": "code",
   "execution_count": null,
   "metadata": {},
   "outputs": [],
   "source": []
  }
 ],
 "metadata": {
  "kernelspec": {
   "display_name": "TensorFlow 1.11 py36",
   "language": "python",
   "name": "tensorflow_1.11.0_py36"
  },
  "language_info": {
   "codemirror_mode": {
    "name": "ipython",
    "version": 3
   },
   "file_extension": ".py",
   "mimetype": "text/x-python",
   "name": "python",
   "nbconvert_exporter": "python",
   "pygments_lexer": "ipython3",
   "version": "3.6.5"
  }
 },
 "nbformat": 4,
 "nbformat_minor": 2
}
