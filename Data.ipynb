{
 "cells": [
  {
   "cell_type": "code",
   "execution_count": 42,
   "metadata": {},
   "outputs": [],
   "source": [
    "import matplotlib.pyplot as plt\n",
    "from mpl_toolkits.mplot3d import Axes3D\n",
    "import pandas as pd\n",
    "from sklearn.decomposition import PCA\n",
    "import numpy as np\n",
    "import os\n",
    "import tensorflow as tf"
   ]
  },
  {
   "cell_type": "code",
   "execution_count": 49,
   "metadata": {},
   "outputs": [
    {
     "data": {
      "text/plain": [
       "array([0, 1, 0])"
      ]
     },
     "execution_count": 49,
     "metadata": {},
     "output_type": "execute_result"
    }
   ],
   "source": [
    "probabilities = np.array([[0.9, 0.3],[0.4, 0.6],[0.8, 0.2], [0.1, 0.9]])\n",
    "actual = [[1, 0],[0, 1],[1, 0]]\n",
    "#returns true if the positive class is greater than the threshold value\n",
    "np.argmax(actual, axis=1)"
   ]
  },
  {
   "cell_type": "code",
   "execution_count": 53,
   "metadata": {},
   "outputs": [
    {
     "data": {
      "text/plain": [
       "array([1, 1, 0, 1])"
      ]
     },
     "execution_count": 53,
     "metadata": {},
     "output_type": "execute_result"
    }
   ],
   "source": [
    "np.multiply((probabilities >= 0.3)[:, 1], 1)"
   ]
  },
  {
   "cell_type": "code",
   "execution_count": 52,
   "metadata": {},
   "outputs": [
    {
     "data": {
      "text/plain": [
       "array([0.1, 0.2, 0.3, 0.4, 0.5, 0.6, 0.7, 0.8, 0.9])"
      ]
     },
     "execution_count": 52,
     "metadata": {},
     "output_type": "execute_result"
    }
   ],
   "source": [
    "np.arange(0.1, 1, 0.1)"
   ]
  },
  {
   "cell_type": "code",
   "execution_count": 2,
   "metadata": {},
   "outputs": [],
   "source": [
    "header = ['label','rndm','weight']\n",
    "# boosted frame\n",
    "header += ['W_B_pt','W_B_eta','W_B_phi','W_B_E','W_B_m']\n",
    "header += ['b_B_pt','b_B_eta','b_B_phi','b_B_E','b_B_m']\n",
    "header += ['Wjj_B_dR','tWb_B_dR'] #dR = sqrt(phi^2 + eta^2)\n",
    "header += ['Wjj_B_deta','Wjj_B_dphi','tWb_B_deta','tWb_B_dphi']\n",
    "# lab frame\n",
    "header += ['W_pt','W_eta','W_phi','W_E','W_m']\n",
    "header += ['b_pt','b_eta','b_phi','b_E','b_m']\n",
    "header += ['Wjj_dR','tWb_dR']\n",
    "header += ['Wjj_deta','Wjj_dphi','tWb_deta','tWb_dphi']\n",
    "header += ['t_pt','t_eta','t_phi','t_E','t_m']\n",
    "\n",
    "header += ['btag1', 'btag2', 'btag3']"
   ]
  },
  {
   "cell_type": "code",
   "execution_count": 6,
   "metadata": {},
   "outputs": [],
   "source": [
    "df = pd.read_csv('~/projects/samples/norm_results.csv', delimiter=',')"
   ]
  },
  {
   "cell_type": "code",
   "execution_count": null,
   "metadata": {},
   "outputs": [],
   "source": [
    "df2 = pd.read_csv('~/projects/top-reco-tests/samples/norm_results_0.2.csv', delimiter=',')"
   ]
  },
  {
   "cell_type": "code",
   "execution_count": 11,
   "metadata": {},
   "outputs": [],
   "source": [
    "final_df = df"
   ]
  },
  {
   "cell_type": "markdown",
   "metadata": {},
   "source": [
    "## "
   ]
  },
  {
   "cell_type": "code",
   "execution_count": 7,
   "metadata": {},
   "outputs": [],
   "source": [
    "df = df.drop(\"weight\", axis=1)"
   ]
  },
  {
   "cell_type": "code",
   "execution_count": 13,
   "metadata": {},
   "outputs": [],
   "source": [
    "y = final_df['label']\n",
    "X_norm = final_df.drop('label', axis=1).drop('Unnamed: 0', axis=1)"
   ]
  },
  {
   "cell_type": "code",
   "execution_count": 15,
   "metadata": {},
   "outputs": [],
   "source": [
    "from sklearn.model_selection import train_test_split"
   ]
  },
  {
   "cell_type": "code",
   "execution_count": 16,
   "metadata": {},
   "outputs": [],
   "source": [
    "X_train, X_test, y_train, y_test = train_test_split(X_norm, y, test_size=.15, shuffle=True)\n",
    "X_train, X_val, y_train, y_val = train_test_split(X_train, y_train, test_size=.15, shuffle=True)"
   ]
  },
  {
   "cell_type": "code",
   "execution_count": 28,
   "metadata": {},
   "outputs": [],
   "source": [
    "shuffled = pd.concat([X_train, y_train], axis=1)\n",
    "shuffled = shuffled.sample(frac=1)\n",
    "y_train = shuffled['label']\n",
    "X_train = shuffled.drop('label', axis=1)"
   ]
  },
  {
   "cell_type": "code",
   "execution_count": 32,
   "metadata": {},
   "outputs": [
    {
     "data": {
      "text/html": [
       "<div>\n",
       "<style scoped>\n",
       "    .dataframe tbody tr th:only-of-type {\n",
       "        vertical-align: middle;\n",
       "    }\n",
       "\n",
       "    .dataframe tbody tr th {\n",
       "        vertical-align: top;\n",
       "    }\n",
       "\n",
       "    .dataframe thead th {\n",
       "        text-align: right;\n",
       "    }\n",
       "</style>\n",
       "<table border=\"1\" class=\"dataframe\">\n",
       "  <thead>\n",
       "    <tr style=\"text-align: right;\">\n",
       "      <th></th>\n",
       "      <th>W_B_pt</th>\n",
       "      <th>W_B_eta</th>\n",
       "      <th>W_B_phi</th>\n",
       "      <th>W_B_E</th>\n",
       "      <th>W_B_m</th>\n",
       "      <th>b_B_pt</th>\n",
       "      <th>b_B_eta</th>\n",
       "      <th>b_B_phi</th>\n",
       "      <th>b_B_E</th>\n",
       "      <th>b_B_m</th>\n",
       "      <th>...</th>\n",
       "      <th>tWb_dphi</th>\n",
       "      <th>t_pt</th>\n",
       "      <th>t_eta</th>\n",
       "      <th>t_phi</th>\n",
       "      <th>t_E</th>\n",
       "      <th>t_m</th>\n",
       "      <th>btag1</th>\n",
       "      <th>btag2</th>\n",
       "      <th>btag3</th>\n",
       "      <th>label</th>\n",
       "    </tr>\n",
       "  </thead>\n",
       "  <tbody>\n",
       "    <tr>\n",
       "      <th>9289428</th>\n",
       "      <td>0.284276</td>\n",
       "      <td>0.475290</td>\n",
       "      <td>0.179876</td>\n",
       "      <td>0.183316</td>\n",
       "      <td>0.204684</td>\n",
       "      <td>0.284276</td>\n",
       "      <td>0.550235</td>\n",
       "      <td>0.513184</td>\n",
       "      <td>0.163020</td>\n",
       "      <td>0.391087</td>\n",
       "      <td>...</td>\n",
       "      <td>0.282043</td>\n",
       "      <td>0.341754</td>\n",
       "      <td>0.454891</td>\n",
       "      <td>0.489402</td>\n",
       "      <td>0.109778</td>\n",
       "      <td>0.177915</td>\n",
       "      <td>0.6</td>\n",
       "      <td>0.6</td>\n",
       "      <td>0.00</td>\n",
       "      <td>0</td>\n",
       "    </tr>\n",
       "    <tr>\n",
       "      <th>5763760</th>\n",
       "      <td>0.157276</td>\n",
       "      <td>0.587239</td>\n",
       "      <td>0.517330</td>\n",
       "      <td>0.234906</td>\n",
       "      <td>0.275388</td>\n",
       "      <td>0.157276</td>\n",
       "      <td>0.443351</td>\n",
       "      <td>0.184032</td>\n",
       "      <td>0.153446</td>\n",
       "      <td>0.184964</td>\n",
       "      <td>...</td>\n",
       "      <td>0.325140</td>\n",
       "      <td>0.160759</td>\n",
       "      <td>0.586308</td>\n",
       "      <td>0.183215</td>\n",
       "      <td>0.180613</td>\n",
       "      <td>0.209079</td>\n",
       "      <td>0.0</td>\n",
       "      <td>0.0</td>\n",
       "      <td>0.15</td>\n",
       "      <td>0</td>\n",
       "    </tr>\n",
       "    <tr>\n",
       "      <th>5788732</th>\n",
       "      <td>0.044093</td>\n",
       "      <td>0.284538</td>\n",
       "      <td>0.203821</td>\n",
       "      <td>0.363232</td>\n",
       "      <td>0.073151</td>\n",
       "      <td>0.044093</td>\n",
       "      <td>0.932760</td>\n",
       "      <td>0.537130</td>\n",
       "      <td>0.901407</td>\n",
       "      <td>0.000006</td>\n",
       "      <td>...</td>\n",
       "      <td>0.192153</td>\n",
       "      <td>0.191615</td>\n",
       "      <td>0.924170</td>\n",
       "      <td>0.461530</td>\n",
       "      <td>0.930537</td>\n",
       "      <td>0.488728</td>\n",
       "      <td>0.0</td>\n",
       "      <td>0.0</td>\n",
       "      <td>0.15</td>\n",
       "      <td>0</td>\n",
       "    </tr>\n",
       "    <tr>\n",
       "      <th>14078337</th>\n",
       "      <td>0.400714</td>\n",
       "      <td>0.540544</td>\n",
       "      <td>0.357760</td>\n",
       "      <td>0.302230</td>\n",
       "      <td>0.347738</td>\n",
       "      <td>0.400714</td>\n",
       "      <td>0.487933</td>\n",
       "      <td>0.024460</td>\n",
       "      <td>0.215171</td>\n",
       "      <td>0.247297</td>\n",
       "      <td>...</td>\n",
       "      <td>0.089704</td>\n",
       "      <td>0.178389</td>\n",
       "      <td>0.396003</td>\n",
       "      <td>0.519744</td>\n",
       "      <td>0.176495</td>\n",
       "      <td>0.276468</td>\n",
       "      <td>0.0</td>\n",
       "      <td>0.0</td>\n",
       "      <td>0.00</td>\n",
       "      <td>0</td>\n",
       "    </tr>\n",
       "    <tr>\n",
       "      <th>13282731</th>\n",
       "      <td>0.169897</td>\n",
       "      <td>0.431581</td>\n",
       "      <td>0.251222</td>\n",
       "      <td>0.241385</td>\n",
       "      <td>0.276902</td>\n",
       "      <td>0.169897</td>\n",
       "      <td>0.591966</td>\n",
       "      <td>0.584531</td>\n",
       "      <td>0.180413</td>\n",
       "      <td>0.220908</td>\n",
       "      <td>...</td>\n",
       "      <td>0.173944</td>\n",
       "      <td>0.210520</td>\n",
       "      <td>0.512100</td>\n",
       "      <td>0.392347</td>\n",
       "      <td>0.119360</td>\n",
       "      <td>0.223135</td>\n",
       "      <td>0.0</td>\n",
       "      <td>0.0</td>\n",
       "      <td>0.45</td>\n",
       "      <td>0</td>\n",
       "    </tr>\n",
       "  </tbody>\n",
       "</table>\n",
       "<p>5 rows × 41 columns</p>\n",
       "</div>"
      ],
      "text/plain": [
       "            W_B_pt   W_B_eta   W_B_phi     W_B_E     W_B_m    b_B_pt  \\\n",
       "9289428   0.284276  0.475290  0.179876  0.183316  0.204684  0.284276   \n",
       "5763760   0.157276  0.587239  0.517330  0.234906  0.275388  0.157276   \n",
       "5788732   0.044093  0.284538  0.203821  0.363232  0.073151  0.044093   \n",
       "14078337  0.400714  0.540544  0.357760  0.302230  0.347738  0.400714   \n",
       "13282731  0.169897  0.431581  0.251222  0.241385  0.276902  0.169897   \n",
       "\n",
       "           b_B_eta   b_B_phi     b_B_E     b_B_m  ...    tWb_dphi      t_pt  \\\n",
       "9289428   0.550235  0.513184  0.163020  0.391087  ...    0.282043  0.341754   \n",
       "5763760   0.443351  0.184032  0.153446  0.184964  ...    0.325140  0.160759   \n",
       "5788732   0.932760  0.537130  0.901407  0.000006  ...    0.192153  0.191615   \n",
       "14078337  0.487933  0.024460  0.215171  0.247297  ...    0.089704  0.178389   \n",
       "13282731  0.591966  0.584531  0.180413  0.220908  ...    0.173944  0.210520   \n",
       "\n",
       "             t_eta     t_phi       t_E       t_m  btag1  btag2  btag3  label  \n",
       "9289428   0.454891  0.489402  0.109778  0.177915    0.6    0.6   0.00      0  \n",
       "5763760   0.586308  0.183215  0.180613  0.209079    0.0    0.0   0.15      0  \n",
       "5788732   0.924170  0.461530  0.930537  0.488728    0.0    0.0   0.15      0  \n",
       "14078337  0.396003  0.519744  0.176495  0.276468    0.0    0.0   0.00      0  \n",
       "13282731  0.512100  0.392347  0.119360  0.223135    0.0    0.0   0.45      0  \n",
       "\n",
       "[5 rows x 41 columns]"
      ]
     },
     "execution_count": 32,
     "metadata": {},
     "output_type": "execute_result"
    }
   ],
   "source": [
    "shuffled.head()"
   ]
  },
  {
   "cell_type": "code",
   "execution_count": 12,
   "metadata": {},
   "outputs": [
    {
     "name": "stdout",
     "output_type": "stream",
     "text": [
      "(13759043, 43)\n"
     ]
    }
   ],
   "source": [
    "pos_class = df2[df2['label'] == 1]\n",
    "neg_class = df2[df2['label'] == 0]\n",
    "print(neg_class.shape)\n",
    "neg_class = neg_class.sample(frac=0.2)\n",
    "neg_class.shape\n",
    "final_df = pd.concat([neg_class, pos_class])"
   ]
  },
  {
   "cell_type": "code",
   "execution_count": 15,
   "metadata": {},
   "outputs": [
    {
     "data": {
      "text/plain": [
       "1073837"
      ]
     },
     "execution_count": 15,
     "metadata": {},
     "output_type": "execute_result"
    }
   ],
   "source": [
    "sum(final_df['label'])"
   ]
  },
  {
   "cell_type": "code",
   "execution_count": 18,
   "metadata": {},
   "outputs": [],
   "source": [
    "y = df2['label']"
   ]
  },
  {
   "cell_type": "code",
   "execution_count": 20,
   "metadata": {},
   "outputs": [
    {
     "data": {
      "text/plain": [
       "array([1, 1, 0, ..., 1, 1, 1])"
      ]
     },
     "execution_count": 20,
     "metadata": {},
     "output_type": "execute_result"
    }
   ],
   "source": [
    "y.values"
   ]
  },
  {
   "cell_type": "code",
   "execution_count": 6,
   "metadata": {},
   "outputs": [],
   "source": [
    "final_df.to_csv('~/projects/top-reco-tests/samples/norm_results_0.2.csv', sep=',')"
   ]
  },
  {
   "cell_type": "code",
   "execution_count": 42,
   "metadata": {},
   "outputs": [
    {
     "name": "stdout",
     "output_type": "stream",
     "text": [
      "1.0\n",
      "1.0\n",
      "0.0\n",
      "0.0\n",
      "0.0\n"
     ]
    }
   ],
   "source": [
    "count = 0\n",
    "for chunk in pd.read_csv('~/projects/top-reco-tests/samples/norm_results_0.2.csv', chunksize=5):\n",
    "    if (count == 1):\n",
    "        break\n",
    "    for row in chunk.iterrows():\n",
    "        print(row[1]['label'])\n",
    "    count += 1"
   ]
  },
  {
   "cell_type": "code",
   "execution_count": 7,
   "metadata": {},
   "outputs": [
    {
     "data": {
      "text/html": [
       "<div>\n",
       "<style scoped>\n",
       "    .dataframe tbody tr th:only-of-type {\n",
       "        vertical-align: middle;\n",
       "    }\n",
       "\n",
       "    .dataframe tbody tr th {\n",
       "        vertical-align: top;\n",
       "    }\n",
       "\n",
       "    .dataframe thead th {\n",
       "        text-align: right;\n",
       "    }\n",
       "</style>\n",
       "<table border=\"1\" class=\"dataframe\">\n",
       "  <thead>\n",
       "    <tr style=\"text-align: right;\">\n",
       "      <th></th>\n",
       "      <th>Unnamed: 0</th>\n",
       "      <th>label</th>\n",
       "      <th>rndm</th>\n",
       "      <th>weight</th>\n",
       "      <th>W_B_pt</th>\n",
       "      <th>W_B_eta</th>\n",
       "      <th>W_B_phi</th>\n",
       "      <th>W_B_E</th>\n",
       "      <th>W_B_m</th>\n",
       "      <th>b_B_pt</th>\n",
       "      <th>...</th>\n",
       "      <th>tWb_deta</th>\n",
       "      <th>tWb_dphi</th>\n",
       "      <th>t_pt</th>\n",
       "      <th>t_eta</th>\n",
       "      <th>t_phi</th>\n",
       "      <th>t_E</th>\n",
       "      <th>t_m</th>\n",
       "      <th>btag1</th>\n",
       "      <th>btag2</th>\n",
       "      <th>btag3</th>\n",
       "    </tr>\n",
       "  </thead>\n",
       "  <tbody>\n",
       "    <tr>\n",
       "      <th>0</th>\n",
       "      <td>2520510</td>\n",
       "      <td>0</td>\n",
       "      <td>0.88</td>\n",
       "      <td>0.000023</td>\n",
       "      <td>14.330167</td>\n",
       "      <td>3.347328</td>\n",
       "      <td>-1.425400</td>\n",
       "      <td>219.680227</td>\n",
       "      <td>81.678252</td>\n",
       "      <td>14.330167</td>\n",
       "      <td>...</td>\n",
       "      <td>4.092206</td>\n",
       "      <td>0.541214</td>\n",
       "      <td>102.724245</td>\n",
       "      <td>-0.415194</td>\n",
       "      <td>-3.121348</td>\n",
       "      <td>438.243632</td>\n",
       "      <td>423.767850</td>\n",
       "      <td>1.0</td>\n",
       "      <td>5.0</td>\n",
       "      <td>1.0</td>\n",
       "    </tr>\n",
       "    <tr>\n",
       "      <th>1</th>\n",
       "      <td>1273043</td>\n",
       "      <td>0</td>\n",
       "      <td>-0.82</td>\n",
       "      <td>-0.000012</td>\n",
       "      <td>66.450459</td>\n",
       "      <td>-1.203419</td>\n",
       "      <td>-0.388779</td>\n",
       "      <td>134.612403</td>\n",
       "      <td>59.674561</td>\n",
       "      <td>66.450459</td>\n",
       "      <td>...</td>\n",
       "      <td>-2.643688</td>\n",
       "      <td>2.564766</td>\n",
       "      <td>78.305473</td>\n",
       "      <td>0.074653</td>\n",
       "      <td>3.139745</td>\n",
       "      <td>267.438030</td>\n",
       "      <td>255.650380</td>\n",
       "      <td>1.0</td>\n",
       "      <td>1.0</td>\n",
       "      <td>1.0</td>\n",
       "    </tr>\n",
       "    <tr>\n",
       "      <th>2</th>\n",
       "      <td>6012520</td>\n",
       "      <td>0</td>\n",
       "      <td>-0.80</td>\n",
       "      <td>0.000021</td>\n",
       "      <td>46.572933</td>\n",
       "      <td>1.189640</td>\n",
       "      <td>-2.346657</td>\n",
       "      <td>184.410644</td>\n",
       "      <td>164.370607</td>\n",
       "      <td>46.572933</td>\n",
       "      <td>...</td>\n",
       "      <td>1.537668</td>\n",
       "      <td>0.134605</td>\n",
       "      <td>239.684110</td>\n",
       "      <td>1.859811</td>\n",
       "      <td>0.957736</td>\n",
       "      <td>833.410761</td>\n",
       "      <td>270.335153</td>\n",
       "      <td>5.0</td>\n",
       "      <td>5.0</td>\n",
       "      <td>1.0</td>\n",
       "    </tr>\n",
       "    <tr>\n",
       "      <th>3</th>\n",
       "      <td>1499060</td>\n",
       "      <td>0</td>\n",
       "      <td>-0.92</td>\n",
       "      <td>0.000011</td>\n",
       "      <td>55.134627</td>\n",
       "      <td>-0.070586</td>\n",
       "      <td>-0.067063</td>\n",
       "      <td>123.495591</td>\n",
       "      <td>110.436240</td>\n",
       "      <td>55.134627</td>\n",
       "      <td>...</td>\n",
       "      <td>0.042994</td>\n",
       "      <td>-2.888881</td>\n",
       "      <td>24.484248</td>\n",
       "      <td>0.695842</td>\n",
       "      <td>2.574804</td>\n",
       "      <td>181.796156</td>\n",
       "      <td>179.192965</td>\n",
       "      <td>1.0</td>\n",
       "      <td>1.0</td>\n",
       "      <td>5.0</td>\n",
       "    </tr>\n",
       "    <tr>\n",
       "      <th>4</th>\n",
       "      <td>4716200</td>\n",
       "      <td>0</td>\n",
       "      <td>-0.96</td>\n",
       "      <td>0.000023</td>\n",
       "      <td>75.830000</td>\n",
       "      <td>0.088819</td>\n",
       "      <td>-2.488214</td>\n",
       "      <td>222.716845</td>\n",
       "      <td>209.301511</td>\n",
       "      <td>75.830000</td>\n",
       "      <td>...</td>\n",
       "      <td>-0.918603</td>\n",
       "      <td>2.527513</td>\n",
       "      <td>47.073028</td>\n",
       "      <td>-2.847826</td>\n",
       "      <td>1.883668</td>\n",
       "      <td>506.295601</td>\n",
       "      <td>300.633925</td>\n",
       "      <td>1.0</td>\n",
       "      <td>1.0</td>\n",
       "      <td>5.0</td>\n",
       "    </tr>\n",
       "  </tbody>\n",
       "</table>\n",
       "<p>5 rows × 44 columns</p>\n",
       "</div>"
      ],
      "text/plain": [
       "   Unnamed: 0  label  rndm    weight     W_B_pt   W_B_eta   W_B_phi  \\\n",
       "0     2520510      0  0.88  0.000023  14.330167  3.347328 -1.425400   \n",
       "1     1273043      0 -0.82 -0.000012  66.450459 -1.203419 -0.388779   \n",
       "2     6012520      0 -0.80  0.000021  46.572933  1.189640 -2.346657   \n",
       "3     1499060      0 -0.92  0.000011  55.134627 -0.070586 -0.067063   \n",
       "4     4716200      0 -0.96  0.000023  75.830000  0.088819 -2.488214   \n",
       "\n",
       "        W_B_E       W_B_m     b_B_pt  ...    tWb_deta  tWb_dphi        t_pt  \\\n",
       "0  219.680227   81.678252  14.330167  ...    4.092206  0.541214  102.724245   \n",
       "1  134.612403   59.674561  66.450459  ...   -2.643688  2.564766   78.305473   \n",
       "2  184.410644  164.370607  46.572933  ...    1.537668  0.134605  239.684110   \n",
       "3  123.495591  110.436240  55.134627  ...    0.042994 -2.888881   24.484248   \n",
       "4  222.716845  209.301511  75.830000  ...   -0.918603  2.527513   47.073028   \n",
       "\n",
       "      t_eta     t_phi         t_E         t_m  btag1  btag2  btag3  \n",
       "0 -0.415194 -3.121348  438.243632  423.767850    1.0    5.0    1.0  \n",
       "1  0.074653  3.139745  267.438030  255.650380    1.0    1.0    1.0  \n",
       "2  1.859811  0.957736  833.410761  270.335153    5.0    5.0    1.0  \n",
       "3  0.695842  2.574804  181.796156  179.192965    1.0    1.0    5.0  \n",
       "4 -2.847826  1.883668  506.295601  300.633925    1.0    1.0    5.0  \n",
       "\n",
       "[5 rows x 44 columns]"
      ]
     },
     "execution_count": 7,
     "metadata": {},
     "output_type": "execute_result"
    }
   ],
   "source": [
    "df = pd.read_csv('~/projects/top-reco-tests/samples/norm_results_0.2.csv', delimiter=',')\n",
    "df.head()"
   ]
  },
  {
   "cell_type": "code",
   "execution_count": 8,
   "metadata": {},
   "outputs": [],
   "source": [
    "#3d scatter plot before PCA"
   ]
  },
  {
   "cell_type": "code",
   "execution_count": 9,
   "metadata": {},
   "outputs": [],
   "source": [
    "pca = PCA(n_components=5)\n",
    "X_4 = pca.fit_transform(X)"
   ]
  },
  {
   "cell_type": "code",
   "execution_count": 10,
   "metadata": {},
   "outputs": [
    {
     "name": "stdout",
     "output_type": "stream",
     "text": [
      "(2449741,)\n"
     ]
    },
    {
     "data": {
      "text/plain": [
       "(2449741, 5)"
      ]
     },
     "execution_count": 10,
     "metadata": {},
     "output_type": "execute_result"
    }
   ],
   "source": [
    "print(y.shape)\n",
    "X_4.shape"
   ]
  },
  {
   "cell_type": "code",
   "execution_count": 24,
   "metadata": {},
   "outputs": [
    {
     "name": "stdout",
     "output_type": "stream",
     "text": [
      "(107, 5)\n",
      "(96, 5)\n"
     ]
    }
   ],
   "source": [
    "X_4 = pd.DataFrame(X_4)\n",
    "pos_class = X_4.iloc[np.array(y == 1)].sample(frac=0.0001)\n",
    "neg_class = X_4.iloc[np.array(y == 0)].sample(frac=0.00007)\n",
    "print(pos_class.shape)\n",
    "print(neg_class.shape)"
   ]
  },
  {
   "cell_type": "code",
   "execution_count": 36,
   "metadata": {},
   "outputs": [
    {
     "data": {
      "text/plain": [
       "Text(0.5, 0, 'PC3')"
      ]
     },
     "execution_count": 36,
     "metadata": {},
     "output_type": "execute_result"
    },
    {
     "data": {
      "image/png": "[encoded data removed]",
      "text/plain": [
       "<Figure size 432x288 with 1 Axes>"
      ]
     },
     "metadata": {
      "needs_background": "light"
     },
     "output_type": "display_data"
    }
   ],
   "source": [
    "#3d scatter plot after PCA\n",
    "fig = plt.figure()\n",
    "ax = plt.axes(projection='3d')\n",
    "ax.scatter3D(pos_class[pos_class.columns[2]], pos_class[pos_class.columns[3]], pos_class[pos_class.columns[4]], 'blue')\n",
    "ax.scatter3D(neg_class[neg_class.columns[2]], neg_class[neg_class.columns[3]], neg_class[neg_class.columns[4]], 'orange')\n",
    "ax.set_xlabel('PC1')\n",
    "ax.set_ylabel('PC2')\n",
    "ax.set_zlabel('PC3')"
   ]
  },
  {
   "cell_type": "code",
   "execution_count": 64,
   "metadata": {},
   "outputs": [
    {
     "name": "stdout",
     "output_type": "stream",
     "text": [
      "Writing model metrics to model_evaluation.txt\n"
     ]
    }
   ],
   "source": [
    "with open(\"~/projects/test.txt\", \"w+\") as file:\n",
    "    print(\"Writing model metrics to model_evaluation.txt\")\n",
    "    file.write(\"test Predictions: \")"
   ]
  },
  {
   "cell_type": "code",
   "execution_count": 79,
   "metadata": {},
   "outputs": [],
   "source": [
    "arr = [(0.1, 0.9836634889191531, 0.63999083724104), (0.2, 0.8996966695555281, 0.28460547414247606), (0.30000000000000004, 0.7918781725888325, 0.14653142305161082), (0.4, 0.647709545623375, 0.06911338187009972), (0.5, 0.49301101894267674, 0.028840874631398932), (0.6, 0.3802339977714498, 0.013649602038107866), (0.7000000000000001, 0.2867834592051504, 0.006755716725307516), (0.8, 0.1779125913086542, 0.0023367459358437192), (0.9, 0.08388634393958153, 0.0005163141953679587)]"
   ]
  },
  {
   "cell_type": "code",
   "execution_count": 85,
   "metadata": {},
   "outputs": [],
   "source": [
    "import matplotlib.pyplot as plt"
   ]
  },
  {
   "cell_type": "code",
   "execution_count": 86,
   "metadata": {},
   "outputs": [],
   "source": [
    "array = np.array(arr)"
   ]
  },
  {
   "cell_type": "code",
   "execution_count": 87,
   "metadata": {},
   "outputs": [
    {
     "data": {
      "text/plain": [
       "array([0.89969667, 0.28460547])"
      ]
     },
     "execution_count": 87,
     "metadata": {},
     "output_type": "execute_result"
    }
   ],
   "source": [
    "x = array[:, 1:]\n",
    "x[1]"
   ]
  },
  {
   "cell_type": "code",
   "execution_count": 89,
   "metadata": {},
   "outputs": [
    {
     "data": {
      "text/plain": [
       "Text(0, 0.5, 'Signal Efficiency')"
      ]
     },
     "execution_count": 89,
     "metadata": {},
     "output_type": "execute_result"
    },
    {
     "data": {
      "image/png": "[encoded data removed]",
      "text/plain": [
       "<Figure size 432x288 with 1 Axes>"
      ]
     },
     "metadata": {
      "needs_background": "light"
     },
     "output_type": "display_data"
    }
   ],
   "source": [
    "plt.plot(x[:, 1], x[:, 0])\n",
    "plt.xlabel(\"Background Acceptance\")\n",
    "plt.ylabel(\"Signal Efficiency\")"
   ]
  },
  {
   "cell_type": "code",
   "execution_count": null,
   "metadata": {},
   "outputs": [],
   "source": []
  }
 ],
 "metadata": {
  "kernelspec": {
   "display_name": "TensorFlow 1.11 py36",
   "language": "python",
   "name": "tensorflow_1.11.0_py36"
  },
  "language_info": {
   "codemirror_mode": {
    "name": "ipython",
    "version": 3
   },
   "file_extension": ".py",
   "mimetype": "text/x-python",
   "name": "python",
   "nbconvert_exporter": "python",
   "pygments_lexer": "ipython3",
   "version": "3.6.5"
  }
 },
 "nbformat": 4,
 "nbformat_minor": 2
}
